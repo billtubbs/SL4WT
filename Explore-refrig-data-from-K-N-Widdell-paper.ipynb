{
 "cells": [
  {
   "cell_type": "markdown",
   "id": "e7570707",
   "metadata": {},
   "source": [
    "# Explore refrigeration plant data from Widdell paper"
   ]
  },
  {
   "cell_type": "code",
   "execution_count": 1,
   "id": "d0602c1a",
   "metadata": {},
   "outputs": [],
   "source": [
    "import os\n",
    "import numpy as np\n",
    "import pandas as pd\n",
    "\n",
    "import matplotlib.pyplot as plt"
   ]
  },
  {
   "cell_type": "code",
   "execution_count": 2,
   "id": "2c523b7d",
   "metadata": {},
   "outputs": [
    {
     "data": {
      "text/plain": [
       "['04_hourly_energy_data.txt',\n",
       " '01_misc_data.txt',\n",
       " '02_SEC_monthly_data.txt',\n",
       " '03_daily_energy_data.txt']"
      ]
     },
     "execution_count": 2,
     "metadata": {},
     "output_type": "execute_result"
    }
   ],
   "source": [
    "data_dir = \"data/data_from_KNWpaper\"\n",
    "os.listdir(data_dir)"
   ]
  },
  {
   "cell_type": "markdown",
   "id": "7f55604e",
   "metadata": {},
   "source": [
    "## Load hourly data"
   ]
  },
  {
   "cell_type": "code",
   "execution_count": 3,
   "id": "b4925a7f",
   "metadata": {},
   "outputs": [
    {
     "data": {
      "text/plain": [
       "'date (dd.mm.yyyy)\\ttime (hh:mm)\\tref_sys_1 (kW) \\tel_boiler (kW)\\n05.01.2021\\t00:00\\t123,7\\t208\\n05.01.2021\\t01:00\\t110,5\\t197\\n05.01.2021\\t02:00\\t105,4\\t198\\n05.01.2021\\t03:00\\t137,7\\t206\\n05.01.2021\\t04:00\\t112,5\\t237\\n05.01.2021\\t05:00\\t104,5\\t257\\n05.01.2021\\t06:00'"
      ]
     },
     "execution_count": 3,
     "metadata": {},
     "output_type": "execute_result"
    }
   ],
   "source": [
    "file_spec = os.path.join(data_dir, \"04_hourly_energy_data.txt\")\n",
    "\n",
    "with open(file_spec) as f:\n",
    "    file_txt = f.read()\n",
    "\n",
    "file_txt[:240]"
   ]
  },
  {
   "cell_type": "code",
   "execution_count": 4,
   "id": "79bdacc2",
   "metadata": {},
   "outputs": [
    {
     "data": {
      "text/plain": [
       "(240, 4)"
      ]
     },
     "execution_count": 4,
     "metadata": {},
     "output_type": "execute_result"
    }
   ],
   "source": [
    "df = pd.read_csv(file_spec, delimiter=\"\\t\", decimal=',')\n",
    "df.shape"
   ]
  },
  {
   "cell_type": "code",
   "execution_count": 5,
   "id": "79a44403",
   "metadata": {},
   "outputs": [
    {
     "data": {
      "text/html": [
       "<div>\n",
       "<style scoped>\n",
       "    .dataframe tbody tr th:only-of-type {\n",
       "        vertical-align: middle;\n",
       "    }\n",
       "\n",
       "    .dataframe tbody tr th {\n",
       "        vertical-align: top;\n",
       "    }\n",
       "\n",
       "    .dataframe thead th {\n",
       "        text-align: right;\n",
       "    }\n",
       "</style>\n",
       "<table border=\"1\" class=\"dataframe\">\n",
       "  <thead>\n",
       "    <tr style=\"text-align: right;\">\n",
       "      <th></th>\n",
       "      <th>date (dd.mm.yyyy)</th>\n",
       "      <th>time (hh:mm)</th>\n",
       "      <th>ref_sys_1 (kW)</th>\n",
       "      <th>el_boiler (kW)</th>\n",
       "    </tr>\n",
       "  </thead>\n",
       "  <tbody>\n",
       "    <tr>\n",
       "      <th>0</th>\n",
       "      <td>05.01.2021</td>\n",
       "      <td>00:00</td>\n",
       "      <td>123.7</td>\n",
       "      <td>208</td>\n",
       "    </tr>\n",
       "    <tr>\n",
       "      <th>1</th>\n",
       "      <td>05.01.2021</td>\n",
       "      <td>01:00</td>\n",
       "      <td>110.5</td>\n",
       "      <td>197</td>\n",
       "    </tr>\n",
       "    <tr>\n",
       "      <th>2</th>\n",
       "      <td>05.01.2021</td>\n",
       "      <td>02:00</td>\n",
       "      <td>105.4</td>\n",
       "      <td>198</td>\n",
       "    </tr>\n",
       "    <tr>\n",
       "      <th>3</th>\n",
       "      <td>05.01.2021</td>\n",
       "      <td>03:00</td>\n",
       "      <td>137.7</td>\n",
       "      <td>206</td>\n",
       "    </tr>\n",
       "    <tr>\n",
       "      <th>4</th>\n",
       "      <td>05.01.2021</td>\n",
       "      <td>04:00</td>\n",
       "      <td>112.5</td>\n",
       "      <td>237</td>\n",
       "    </tr>\n",
       "  </tbody>\n",
       "</table>\n",
       "</div>"
      ],
      "text/plain": [
       "  date (dd.mm.yyyy) time (hh:mm)  ref_sys_1 (kW)   el_boiler (kW)\n",
       "0        05.01.2021        00:00            123.7             208\n",
       "1        05.01.2021        01:00            110.5             197\n",
       "2        05.01.2021        02:00            105.4             198\n",
       "3        05.01.2021        03:00            137.7             206\n",
       "4        05.01.2021        04:00            112.5             237"
      ]
     },
     "execution_count": 5,
     "metadata": {},
     "output_type": "execute_result"
    }
   ],
   "source": [
    "df.head()"
   ]
  },
  {
   "cell_type": "code",
   "execution_count": 6,
   "id": "4664029c",
   "metadata": {},
   "outputs": [
    {
     "data": {
      "text/html": [
       "<div>\n",
       "<style scoped>\n",
       "    .dataframe tbody tr th:only-of-type {\n",
       "        vertical-align: middle;\n",
       "    }\n",
       "\n",
       "    .dataframe tbody tr th {\n",
       "        vertical-align: top;\n",
       "    }\n",
       "\n",
       "    .dataframe thead th {\n",
       "        text-align: right;\n",
       "    }\n",
       "</style>\n",
       "<table border=\"1\" class=\"dataframe\">\n",
       "  <thead>\n",
       "    <tr style=\"text-align: right;\">\n",
       "      <th></th>\n",
       "      <th>date (dd.mm.yyyy)</th>\n",
       "      <th>time (hh:mm)</th>\n",
       "      <th>ref_sys_1 (kW)</th>\n",
       "      <th>el_boiler (kW)</th>\n",
       "    </tr>\n",
       "    <tr>\n",
       "      <th>datetime</th>\n",
       "      <th></th>\n",
       "      <th></th>\n",
       "      <th></th>\n",
       "      <th></th>\n",
       "    </tr>\n",
       "  </thead>\n",
       "  <tbody>\n",
       "    <tr>\n",
       "      <th>2021-01-05 00:00:00</th>\n",
       "      <td>05.01.2021</td>\n",
       "      <td>00:00</td>\n",
       "      <td>123.7</td>\n",
       "      <td>208</td>\n",
       "    </tr>\n",
       "    <tr>\n",
       "      <th>2021-01-05 01:00:00</th>\n",
       "      <td>05.01.2021</td>\n",
       "      <td>01:00</td>\n",
       "      <td>110.5</td>\n",
       "      <td>197</td>\n",
       "    </tr>\n",
       "    <tr>\n",
       "      <th>2021-01-05 02:00:00</th>\n",
       "      <td>05.01.2021</td>\n",
       "      <td>02:00</td>\n",
       "      <td>105.4</td>\n",
       "      <td>198</td>\n",
       "    </tr>\n",
       "    <tr>\n",
       "      <th>2021-01-05 03:00:00</th>\n",
       "      <td>05.01.2021</td>\n",
       "      <td>03:00</td>\n",
       "      <td>137.7</td>\n",
       "      <td>206</td>\n",
       "    </tr>\n",
       "    <tr>\n",
       "      <th>2021-01-05 04:00:00</th>\n",
       "      <td>05.01.2021</td>\n",
       "      <td>04:00</td>\n",
       "      <td>112.5</td>\n",
       "      <td>237</td>\n",
       "    </tr>\n",
       "  </tbody>\n",
       "</table>\n",
       "</div>"
      ],
      "text/plain": [
       "                    date (dd.mm.yyyy) time (hh:mm)  ref_sys_1 (kW)  \\\n",
       "datetime                                                             \n",
       "2021-01-05 00:00:00        05.01.2021        00:00           123.7   \n",
       "2021-01-05 01:00:00        05.01.2021        01:00           110.5   \n",
       "2021-01-05 02:00:00        05.01.2021        02:00           105.4   \n",
       "2021-01-05 03:00:00        05.01.2021        03:00           137.7   \n",
       "2021-01-05 04:00:00        05.01.2021        04:00           112.5   \n",
       "\n",
       "                     el_boiler (kW)  \n",
       "datetime                             \n",
       "2021-01-05 00:00:00             208  \n",
       "2021-01-05 01:00:00             197  \n",
       "2021-01-05 02:00:00             198  \n",
       "2021-01-05 03:00:00             206  \n",
       "2021-01-05 04:00:00             237  "
      ]
     },
     "execution_count": 6,
     "metadata": {},
     "output_type": "execute_result"
    }
   ],
   "source": [
    "# Combine dates and time into new index\n",
    "df[\"datetime\"] = pd.to_datetime(\n",
    "    df[\"date (dd.mm.yyyy)\"] + \" \" + df[\"time (hh:mm)\"],\n",
    "    format='%d.%m.%Y %H:%M'\n",
    ")\n",
    "df = df.set_index(\"datetime\", drop=True)\n",
    "\n",
    "# Strip whitespace from column names\n",
    "df = df.rename(columns={col: col.strip() for col in df.columns})\n",
    "df.head()"
   ]
  },
  {
   "cell_type": "code",
   "execution_count": 7,
   "id": "008dfbbb",
   "metadata": {},
   "outputs": [],
   "source": [
    "# Check index values are contingous\n",
    "hrs = (df.index - df.index[0]).total_seconds().to_numpy() // 3600\n",
    "assert(np.all(np.diff(hrs) == 1))"
   ]
  },
  {
   "cell_type": "code",
   "execution_count": 9,
   "id": "8b90d8b0",
   "metadata": {},
   "outputs": [
    {
     "data": {
      "image/png": "[encoded data removed]",
      "text/plain": [
       "<Figure size 700x300 with 1 Axes>"
      ]
     },
     "metadata": {},
     "output_type": "display_data"
    }
   ],
   "source": [
    "ax = df.plot(style='.', grid=True, figsize=(7,3))\n",
    "plt.tight_layout()\n",
    "plt.savefig(\"plots/daily_data_from_KNW_paper.pdf\")"
   ]
  },
  {
   "cell_type": "code",
   "execution_count": null,
   "id": "284d1d6b",
   "metadata": {},
   "outputs": [],
   "source": []
  },
  {
   "cell_type": "code",
   "execution_count": null,
   "id": "dfd6b261",
   "metadata": {},
   "outputs": [],
   "source": []
  },
  {
   "cell_type": "code",
   "execution_count": null,
   "id": "44aea5df",
   "metadata": {},
   "outputs": [],
   "source": []
  },
  {
   "cell_type": "code",
   "execution_count": null,
   "id": "741a562f",
   "metadata": {},
   "outputs": [],
   "source": []
  }
 ],
 "metadata": {
  "kernelspec": {
   "display_name": "Python (pymc)",
   "language": "python",
   "name": "pymc"
  },
  "language_info": {
   "codemirror_mode": {
    "name": "ipython",
    "version": 3
   },
   "file_extension": ".py",
   "mimetype": "text/x-python",
   "name": "python",
   "nbconvert_exporter": "python",
   "pygments_lexer": "ipython3",
   "version": "3.11.0"
  }
 },
 "nbformat": 4,
 "nbformat_minor": 5
}
